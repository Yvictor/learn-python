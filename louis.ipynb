{
 "cells": [
  {
   "cell_type": "code",
   "execution_count": 24,
   "metadata": {},
   "outputs": [
    {
     "name": "stdout",
     "output_type": "stream",
     "text": [
      "README.md    louis.ipynb\r\n"
     ]
    }
   ],
   "source": [
    "ls"
   ]
  },
  {
   "cell_type": "code",
   "execution_count": 25,
   "metadata": {},
   "outputs": [
    {
     "name": "stdout",
     "output_type": "stream",
     "text": [
      "Requirement already satisfied: pyquery in /Users/LeeYiHsun/miniconda3/envs/py3/lib/python3.6/site-packages\r\n",
      "Requirement already satisfied: cssselect>0.7.9 in /Users/LeeYiHsun/miniconda3/envs/py3/lib/python3.6/site-packages (from pyquery)\r\n",
      "Requirement already satisfied: lxml>=2.1 in /Users/LeeYiHsun/miniconda3/envs/py3/lib/python3.6/site-packages (from pyquery)\r\n"
     ]
    }
   ],
   "source": [
    "!pip install pyquery"
   ]
  },
  {
   "cell_type": "code",
   "execution_count": 5,
   "metadata": {},
   "outputs": [],
   "source": [
    "import requests\n",
    "from pyquery import PyQuery"
   ]
  },
  {
   "cell_type": "code",
   "execution_count": 61,
   "metadata": {},
   "outputs": [],
   "source": [
    "import pandas as pd"
   ]
  },
  {
   "cell_type": "code",
   "execution_count": 6,
   "metadata": {},
   "outputs": [],
   "source": [
    "from bs4 import BeautifulSoup as BS"
   ]
  },
  {
   "cell_type": "code",
   "execution_count": 2,
   "metadata": {},
   "outputs": [
    {
     "name": "stdout",
     "output_type": "stream",
     "text": [
      "total 24\r\n",
      "-rw-r--r--  1 LeeYiHsun  staff    14B 11 23 23:04 README.md\r\n",
      "-rw-r--r--  1 LeeYiHsun  staff   7.3K 11 24 14:40 louis.ipynb\r\n"
     ]
    }
   ],
   "source": [
    "! ls -lh"
   ]
  },
  {
   "cell_type": "code",
   "execution_count": 3,
   "metadata": {},
   "outputs": [
    {
     "name": "stdout",
     "output_type": "stream",
     "text": [
      "Collecting bs4\n",
      "  Downloading bs4-0.0.1.tar.gz\n",
      "Collecting beautifulsoup4 (from bs4)\n",
      "  Downloading beautifulsoup4-4.6.0-py3-none-any.whl (86kB)\n",
      "\u001b[K    100% |████████████████████████████████| 92kB 463kB/s ta 0:00:01\n",
      "\u001b[?25hBuilding wheels for collected packages: bs4\n",
      "  Running setup.py bdist_wheel for bs4 ... \u001b[?25ldone\n",
      "\u001b[?25h  Stored in directory: /Users/LeeYiHsun/Library/Caches/pip/wheels/84/67/d4/9e09d9d5adede2ee1c7b7e8775ba3fbb04d07c4f946f0e4f11\n",
      "Successfully built bs4\n",
      "Installing collected packages: beautifulsoup4, bs4\n",
      "Successfully installed beautifulsoup4-4.6.0 bs4-0.0.1\n"
     ]
    }
   ],
   "source": [
    "! pip install bs4"
   ]
  },
  {
   "cell_type": "code",
   "execution_count": 7,
   "metadata": {},
   "outputs": [],
   "source": [
    "url = 'http://www.zimuzu.tv/subtitle'"
   ]
  },
  {
   "cell_type": "code",
   "execution_count": 8,
   "metadata": {},
   "outputs": [
    {
     "name": "stdout",
     "output_type": "stream",
     "text": [
      "http://www.zimuzu.tv/subtitle\n"
     ]
    }
   ],
   "source": [
    "print(url)"
   ]
  },
  {
   "cell_type": "code",
   "execution_count": 9,
   "metadata": {},
   "outputs": [],
   "source": [
    "result = requests.get(url)"
   ]
  },
  {
   "cell_type": "code",
   "execution_count": 10,
   "metadata": {},
   "outputs": [
    {
     "data": {
      "text/plain": [
       "<Response [200]>"
      ]
     },
     "execution_count": 10,
     "metadata": {},
     "output_type": "execute_result"
    }
   ],
   "source": [
    "result"
   ]
  },
  {
   "cell_type": "code",
   "execution_count": 16,
   "metadata": {},
   "outputs": [],
   "source": [
    "S = PyQuery(result.text)"
   ]
  },
  {
   "cell_type": "code",
   "execution_count": 33,
   "metadata": {},
   "outputs": [],
   "source": [
    "def add(a, b):\n",
    "    return a+b"
   ]
  },
  {
   "cell_type": "code",
   "execution_count": 44,
   "metadata": {},
   "outputs": [],
   "source": [
    "abc = {'a': 10, 'b': 5, 'c': 1}"
   ]
  },
  {
   "cell_type": "code",
   "execution_count": 45,
   "metadata": {},
   "outputs": [
    {
     "data": {
      "text/plain": [
       "10"
      ]
     },
     "execution_count": 45,
     "metadata": {},
     "output_type": "execute_result"
    }
   ],
   "source": [
    "abc['a']"
   ]
  },
  {
   "cell_type": "code",
   "execution_count": 47,
   "metadata": {},
   "outputs": [
    {
     "data": {
      "text/plain": [
       "1"
      ]
     },
     "execution_count": 47,
     "metadata": {},
     "output_type": "execute_result"
    }
   ],
   "source": [
    "abc['c']"
   ]
  },
  {
   "cell_type": "code",
   "execution_count": 77,
   "metadata": {},
   "outputs": [],
   "source": [
    "f = lambda a,b: a+b"
   ]
  },
  {
   "cell_type": "code",
   "execution_count": 78,
   "metadata": {},
   "outputs": [
    {
     "data": {
      "text/plain": [
       "3"
      ]
     },
     "execution_count": 78,
     "metadata": {},
     "output_type": "execute_result"
    }
   ],
   "source": [
    "f(1,2)"
   ]
  },
  {
   "cell_type": "code",
   "execution_count": 83,
   "metadata": {},
   "outputs": [
    {
     "name": "stdout",
     "output_type": "stream",
     "text": [
      "<span>【语种】简体/繁体/英文/中英</span> &#13;\n",
      "                            <span>【格式】SRT/ASS</span> &#13;\n",
      "                            <span>【版本】Legends.of.Tomorrow.S03E06.Helen.Hunt.720p.Amazon.WEB-DL.DD 5.1.H.264-QOQ.zip</span>&#13;\n",
      "                            <span>【来源】ZiMuZu原创翻译</span>                       &#13;\n",
      "                            <span>【发布】2017-11-28 10:23</span> &#13;\n",
      "                        \n"
     ]
    }
   ],
   "source": [
    "print(PyQuery(S('.box.subtitle-list .list_a')[0])('span'))"
   ]
  },
  {
   "cell_type": "code",
   "execution_count": 84,
   "metadata": {},
   "outputs": [
    {
     "name": "stdout",
     "output_type": "stream",
     "text": [
      "<span>【语种】简体/繁体/英文/中英</span> &#13;\n",
      "                            <span>【格式】SRT/ASS</span> &#13;\n",
      "                            <span>【版本】Legends.of.Tomorrow.S03E05.Return.of.the.Mack.720p.Amazon.WEB-DL.DD+5.1.H.264-QOQ.zip</span>&#13;\n",
      "                            <span>【来源】ZiMuZu原创翻译</span>                       &#13;\n",
      "                            <span>【发布】2017-11-28 10:05</span> &#13;\n",
      "                        \n"
     ]
    }
   ],
   "source": [
    "print(PyQuery(S('.box.subtitle-list .list_a')[1])('span'))"
   ]
  },
  {
   "cell_type": "code",
   "execution_count": 85,
   "metadata": {},
   "outputs": [
    {
     "name": "stdout",
     "output_type": "stream",
     "text": [
      "<span>【语种】简体/繁体/英文/中英</span> &#13;\n",
      "                            <span>【格式】SRT/ASS</span> &#13;\n",
      "                            <span>【版本】Z.Nation.S04E07.Warrens.Wedding.720p.AMZN.WEB-DL.DDP5.1.H.264-KiNGS.zip</span>&#13;\n",
      "                            <span>【来源】ZiMuZu原创翻译</span>                       &#13;\n",
      "                            <span>【发布】2017-11-28 10:03</span> &#13;\n",
      "                        \n"
     ]
    }
   ],
   "source": [
    "print(PyQuery(S('.box.subtitle-list .list_a')[3])('span'))"
   ]
  },
  {
   "cell_type": "code",
   "execution_count": 75,
   "metadata": {},
   "outputs": [
    {
     "name": "stdout",
     "output_type": "stream",
     "text": [
      "<span>【语种】简体/繁体/英文/中英</span> &#13;\n",
      "                            <span>【格式】SRT/ASS</span> &#13;\n",
      "                            <span>【版本】Legends.of.Tomorrow.S03E06.Helen.Hunt.720p.Amazon.WEB-DL.DD 5.1.H.264-QOQ.zip</span>&#13;\n",
      "                            <span>【来源】ZiMuZu原创翻译</span>                       &#13;\n",
      "                            <span>【发布】2017-11-28 10:23</span> &#13;\n",
      "                        \n",
      "<span>【语种】简体/繁体/英文/中英</span> &#13;\n",
      "                            <span>【格式】SRT/ASS</span> &#13;\n",
      "                            <span>【版本】Legends.of.Tomorrow.S03E05.Return.of.the.Mack.720p.Amazon.WEB-DL.DD+5.1.H.264-QOQ.zip</span>&#13;\n",
      "                            <span>【来源】ZiMuZu原创翻译</span>                       &#13;\n",
      "                            <span>【发布】2017-11-28 10:05</span> &#13;\n",
      "                        \n",
      "<span>【语种】简体/繁体/英文/中英</span> &#13;\n",
      "                            <span>【格式】SRT/ASS</span> &#13;\n",
      "                            <span>【版本】Z.Nation.S04E08.Crisis.of.Faith.720p.AMZN.WEB-DL.DDP5.1.H.264-KiNGS.zip</span>&#13;\n",
      "                            <span>【来源】ZiMuZu原创翻译</span>                       &#13;\n",
      "                            <span>【发布】2017-11-28 10:03</span> &#13;\n",
      "                        \n",
      "<span>【语种】简体/繁体/英文/中英</span> &#13;\n",
      "                            <span>【格式】SRT/ASS</span> &#13;\n",
      "                            <span>【版本】Z.Nation.S04E07.Warrens.Wedding.720p.AMZN.WEB-DL.DDP5.1.H.264-KiNGS.zip</span>&#13;\n",
      "                            <span>【来源】ZiMuZu原创翻译</span>                       &#13;\n",
      "                            <span>【发布】2017-11-28 10:03</span> &#13;\n",
      "                        \n",
      "<span>【语种】简体/繁体/英文/中英</span> &#13;\n",
      "                            <span>【格式】SRT/ASS</span> &#13;\n",
      "                            <span>【版本】howards_end.1x03.720p_hdtv_x264-fov</span>&#13;\n",
      "                            <span>【来源】ZiMuZu原创翻译</span>                       &#13;\n",
      "                            <span>【发布】2017-11-27 23:43</span> &#13;\n",
      "                        \n",
      "<span>【语种】简体/繁体/英文/中英</span> &#13;\n",
      "                            <span>【格式】SRT/ASS</span> &#13;\n",
      "                            <span>【版本】outlander.s03e11.720p.web.h264-strife</span>&#13;\n",
      "                            <span>【来源】ZiMuZu原创翻译</span>                       &#13;\n",
      "                            <span>【发布】2017-11-27 21:58</span> &#13;\n",
      "                        \n",
      "<span>【语种】简体/繁体/英文/中英</span> &#13;\n",
      "                            <span>【格式】SRT/ASS</span> &#13;\n",
      "                            <span>【版本】godless.2017.s01e05.720p.webrip.x264-strife</span>&#13;\n",
      "                            <span>【来源】ZiMuZu原创翻译</span>                       &#13;\n",
      "                            <span>【发布】2017-11-27 21:01</span> &#13;\n",
      "                        \n",
      "<span>【语种】简体/英文/中英</span> &#13;\n",
      "                            <span>【格式】SRT/ASS</span> &#13;\n",
      "                            <span>【版本】berlin.station.s02e08.720p.web.h264-tbs</span>&#13;\n",
      "                            <span>【来源】ZiMuZu原创翻译</span>                       &#13;\n",
      "                            <span>【发布】2017-11-27 20:47</span> &#13;\n",
      "                        \n",
      "<span>【语种】简体/繁体/英文/中英</span> &#13;\n",
      "                            <span>【格式】SRT/ASS</span> &#13;\n",
      "                            <span>【版本】</span>&#13;\n",
      "                            <span>【来源】ZiMuZu原创翻译</span>                       &#13;\n",
      "                            <span>【发布】2017-11-27 20:46</span> &#13;\n",
      "                        \n",
      "<span>【语种】简体/繁体/英文/中英</span> &#13;\n",
      "                            <span>【格式】SRT/ASS</span> &#13;\n",
      "                            <span>【版本】longmire.s06e10.720p.web.x264-convoy</span>&#13;\n",
      "                            <span>【来源】ZiMuZu原创翻译</span>                       &#13;\n",
      "                            <span>【发布】2017-11-27 20:43</span> &#13;\n",
      "                        \n",
      "<span>【语种】简体/繁体/英文/中英</span> &#13;\n",
      "                            <span>【格式】SRT/ASS</span> &#13;\n",
      "                            <span>【版本】longmire.s06e09.1080p.web.x264-convoy</span>&#13;\n",
      "                            <span>【来源】ZiMuZu原创翻译</span>                       &#13;\n",
      "                            <span>【发布】2017-11-27 20:42</span> &#13;\n",
      "                        \n",
      "<span>【语种】简体/繁体/英文/中英</span> &#13;\n",
      "                            <span>【格式】SRT/ASS</span> &#13;\n",
      "                            <span>【版本】Man.With.a.Plan.S02E02.720p.HDTV.X264-DIMENSION.mkv</span>&#13;\n",
      "                            <span>【来源】ZiMuZu原创翻译</span>                       &#13;\n",
      "                            <span>【发布】2017-11-27 18:19</span> &#13;\n",
      "                        \n",
      "<span>【语种】简体/繁体/英文/中英</span> &#13;\n",
      "                            <span>【格式】SRT/ASS</span> &#13;\n",
      "                            <span>【版本】Man.with.a.Plan.S02E01.720p.HDTV.X264-DIMENSION.mkv</span>&#13;\n",
      "                            <span>【来源】ZiMuZu原创翻译</span>                       &#13;\n",
      "                            <span>【发布】2017-11-27 18:18</span> &#13;\n",
      "                        \n",
      "<span>【语种】简体/繁体/英文/中英</span> &#13;\n",
      "                            <span>【格式】SRT/ASS</span> &#13;\n",
      "                            <span>【版本】BBC.Punk.Britannia.2of3.Punk.1976-1978.720p.HDTV.x264.AAC.MVGroup.org</span>&#13;\n",
      "                            <span>【来源】ZiMuZu原创翻译</span>                       &#13;\n",
      "                            <span>【发布】2017-11-27 16:40</span> &#13;\n",
      "                        \n",
      "<span>【语种】简体/繁体/英文/中英</span> &#13;\n",
      "                            <span>【格式】SRT/ASS</span> &#13;\n",
      "                            <span>【版本】BBC.Horizon.2017.Antarctica.Ice.Station.Rescue.1080p.HDTV.x264.AAC.MVGroup.org</span>&#13;\n",
      "                            <span>【来源】ZiMuZu原创翻译</span>                       &#13;\n",
      "                            <span>【发布】2017-11-27 16:38</span> &#13;\n",
      "                        \n",
      "<span>【语种】简体/繁体/英文/中英</span> &#13;\n",
      "                            <span>【格式】SRT/ASS</span> &#13;\n",
      "                            <span>【版本】The.Walking.Dead.S08E06.720p.HDTV.x264-AVS</span>&#13;\n",
      "                            <span>【来源】ZiMuZu原创翻译</span>                       &#13;\n",
      "                            <span>【发布】2017-11-27 16:32</span> &#13;\n",
      "                        \n",
      "<span>【语种】简体/繁体/英文/中英</span> &#13;\n",
      "                            <span>【格式】SRT/ASS</span> &#13;\n",
      "                            <span>【版本】The.Simpsons.S29E07.720p.HDTV.x264-KILLERS</span>&#13;\n",
      "                            <span>【来源】ZiMuZu原创翻译</span>                       &#13;\n",
      "                            <span>【发布】2017-11-27 09:38</span> &#13;\n",
      "                        \n",
      "<span>【语种】简体/繁体/英文/中英</span> &#13;\n",
      "                            <span>【格式】SRT/ASS</span> &#13;\n",
      "                            <span>【版本】24.S01.720p.BluRay.X264-REWARD</span>&#13;\n",
      "                            <span>【来源】ZiMuZu原创翻译</span>                       &#13;\n",
      "                            <span>【发布】2017-11-26 22:53</span> &#13;\n",
      "                        \n",
      "<span>【语种】简体/繁体/英文/中英</span> &#13;\n",
      "                            <span>【格式】SRT/ASS</span> &#13;\n",
      "                            <span>【版本】godless.2017.s01e04.720p.webrip.x264-strife</span>&#13;\n",
      "                            <span>【来源】ZiMuZu原创翻译</span>                       &#13;\n",
      "                            <span>【发布】2017-11-26 22:49</span> &#13;\n",
      "                        \n",
      "<span>【语种】简体/繁体/英文/中英</span> &#13;\n",
      "                            <span>【格式】SRT/ASS</span> &#13;\n",
      "                            <span>【版本】24.S02E02.720p.BluRay.X264-REWARD</span>&#13;\n",
      "                            <span>【来源】ZiMuZu原创翻译</span>                       &#13;\n",
      "                            <span>【发布】2017-11-26 22:45</span> &#13;\n",
      "                        \n"
     ]
    }
   ],
   "source": [
    "li = S('.box.subtitle-list .list_a').map(lambda i, e: print(PyQuery(e)('span')))"
   ]
  },
  {
   "cell_type": "code",
   "execution_count": 65,
   "metadata": {},
   "outputs": [],
   "source": [
    "li = S('.box.subtitle-list .list_a').map(lambda i,dd: {'語種': PyQuery(dd)('span')[0].text,\n",
    "                                                 '格式': PyQuery(dd)('span')[1].text,\n",
    "                                                 '名稱': PyQuery(dd)('span')[2].text,\n",
    "                                                '日期': PyQuery(dd)('span')[4].text})"
   ]
  },
  {
   "cell_type": "code",
   "execution_count": 66,
   "metadata": {},
   "outputs": [
    {
     "data": {
      "text/html": [
       "<div>\n",
       "<style scoped>\n",
       "    .dataframe tbody tr th:only-of-type {\n",
       "        vertical-align: middle;\n",
       "    }\n",
       "\n",
       "    .dataframe tbody tr th {\n",
       "        vertical-align: top;\n",
       "    }\n",
       "\n",
       "    .dataframe thead th {\n",
       "        text-align: right;\n",
       "    }\n",
       "</style>\n",
       "<table border=\"1\" class=\"dataframe\">\n",
       "  <thead>\n",
       "    <tr style=\"text-align: right;\">\n",
       "      <th></th>\n",
       "      <th>名稱</th>\n",
       "      <th>日期</th>\n",
       "      <th>格式</th>\n",
       "      <th>語種</th>\n",
       "    </tr>\n",
       "  </thead>\n",
       "  <tbody>\n",
       "    <tr>\n",
       "      <th>0</th>\n",
       "      <td>【版本】Legends.of.Tomorrow.S03E06.Helen.Hunt.720p...</td>\n",
       "      <td>【发布】2017-11-28 10:23</td>\n",
       "      <td>【格式】SRT/ASS</td>\n",
       "      <td>【语种】简体/繁体/英文/中英</td>\n",
       "    </tr>\n",
       "    <tr>\n",
       "      <th>1</th>\n",
       "      <td>【版本】Legends.of.Tomorrow.S03E05.Return.of.the.M...</td>\n",
       "      <td>【发布】2017-11-28 10:05</td>\n",
       "      <td>【格式】SRT/ASS</td>\n",
       "      <td>【语种】简体/繁体/英文/中英</td>\n",
       "    </tr>\n",
       "    <tr>\n",
       "      <th>2</th>\n",
       "      <td>【版本】Z.Nation.S04E08.Crisis.of.Faith.720p.AMZN....</td>\n",
       "      <td>【发布】2017-11-28 10:03</td>\n",
       "      <td>【格式】SRT/ASS</td>\n",
       "      <td>【语种】简体/繁体/英文/中英</td>\n",
       "    </tr>\n",
       "    <tr>\n",
       "      <th>3</th>\n",
       "      <td>【版本】Z.Nation.S04E07.Warrens.Wedding.720p.AMZN....</td>\n",
       "      <td>【发布】2017-11-28 10:03</td>\n",
       "      <td>【格式】SRT/ASS</td>\n",
       "      <td>【语种】简体/繁体/英文/中英</td>\n",
       "    </tr>\n",
       "    <tr>\n",
       "      <th>4</th>\n",
       "      <td>【版本】howards_end.1x03.720p_hdtv_x264-fov</td>\n",
       "      <td>【发布】2017-11-27 23:43</td>\n",
       "      <td>【格式】SRT/ASS</td>\n",
       "      <td>【语种】简体/繁体/英文/中英</td>\n",
       "    </tr>\n",
       "    <tr>\n",
       "      <th>5</th>\n",
       "      <td>【版本】outlander.s03e11.720p.web.h264-strife</td>\n",
       "      <td>【发布】2017-11-27 21:58</td>\n",
       "      <td>【格式】SRT/ASS</td>\n",
       "      <td>【语种】简体/繁体/英文/中英</td>\n",
       "    </tr>\n",
       "    <tr>\n",
       "      <th>6</th>\n",
       "      <td>【版本】godless.2017.s01e05.720p.webrip.x264-strife</td>\n",
       "      <td>【发布】2017-11-27 21:01</td>\n",
       "      <td>【格式】SRT/ASS</td>\n",
       "      <td>【语种】简体/繁体/英文/中英</td>\n",
       "    </tr>\n",
       "    <tr>\n",
       "      <th>7</th>\n",
       "      <td>【版本】berlin.station.s02e08.720p.web.h264-tbs</td>\n",
       "      <td>【发布】2017-11-27 20:47</td>\n",
       "      <td>【格式】SRT/ASS</td>\n",
       "      <td>【语种】简体/英文/中英</td>\n",
       "    </tr>\n",
       "    <tr>\n",
       "      <th>8</th>\n",
       "      <td>【版本】</td>\n",
       "      <td>【发布】2017-11-27 20:46</td>\n",
       "      <td>【格式】SRT/ASS</td>\n",
       "      <td>【语种】简体/繁体/英文/中英</td>\n",
       "    </tr>\n",
       "    <tr>\n",
       "      <th>9</th>\n",
       "      <td>【版本】longmire.s06e10.720p.web.x264-convoy</td>\n",
       "      <td>【发布】2017-11-27 20:43</td>\n",
       "      <td>【格式】SRT/ASS</td>\n",
       "      <td>【语种】简体/繁体/英文/中英</td>\n",
       "    </tr>\n",
       "    <tr>\n",
       "      <th>10</th>\n",
       "      <td>【版本】longmire.s06e09.1080p.web.x264-convoy</td>\n",
       "      <td>【发布】2017-11-27 20:42</td>\n",
       "      <td>【格式】SRT/ASS</td>\n",
       "      <td>【语种】简体/繁体/英文/中英</td>\n",
       "    </tr>\n",
       "    <tr>\n",
       "      <th>11</th>\n",
       "      <td>【版本】Man.With.a.Plan.S02E02.720p.HDTV.X264-DIME...</td>\n",
       "      <td>【发布】2017-11-27 18:19</td>\n",
       "      <td>【格式】SRT/ASS</td>\n",
       "      <td>【语种】简体/繁体/英文/中英</td>\n",
       "    </tr>\n",
       "    <tr>\n",
       "      <th>12</th>\n",
       "      <td>【版本】Man.with.a.Plan.S02E01.720p.HDTV.X264-DIME...</td>\n",
       "      <td>【发布】2017-11-27 18:18</td>\n",
       "      <td>【格式】SRT/ASS</td>\n",
       "      <td>【语种】简体/繁体/英文/中英</td>\n",
       "    </tr>\n",
       "    <tr>\n",
       "      <th>13</th>\n",
       "      <td>【版本】BBC.Punk.Britannia.2of3.Punk.1976-1978.720...</td>\n",
       "      <td>【发布】2017-11-27 16:40</td>\n",
       "      <td>【格式】SRT/ASS</td>\n",
       "      <td>【语种】简体/繁体/英文/中英</td>\n",
       "    </tr>\n",
       "    <tr>\n",
       "      <th>14</th>\n",
       "      <td>【版本】BBC.Horizon.2017.Antarctica.Ice.Station.Re...</td>\n",
       "      <td>【发布】2017-11-27 16:38</td>\n",
       "      <td>【格式】SRT/ASS</td>\n",
       "      <td>【语种】简体/繁体/英文/中英</td>\n",
       "    </tr>\n",
       "    <tr>\n",
       "      <th>15</th>\n",
       "      <td>【版本】The.Walking.Dead.S08E06.720p.HDTV.x264-AVS</td>\n",
       "      <td>【发布】2017-11-27 16:32</td>\n",
       "      <td>【格式】SRT/ASS</td>\n",
       "      <td>【语种】简体/繁体/英文/中英</td>\n",
       "    </tr>\n",
       "    <tr>\n",
       "      <th>16</th>\n",
       "      <td>【版本】The.Simpsons.S29E07.720p.HDTV.x264-KILLERS</td>\n",
       "      <td>【发布】2017-11-27 09:38</td>\n",
       "      <td>【格式】SRT/ASS</td>\n",
       "      <td>【语种】简体/繁体/英文/中英</td>\n",
       "    </tr>\n",
       "    <tr>\n",
       "      <th>17</th>\n",
       "      <td>【版本】24.S01.720p.BluRay.X264-REWARD</td>\n",
       "      <td>【发布】2017-11-26 22:53</td>\n",
       "      <td>【格式】SRT/ASS</td>\n",
       "      <td>【语种】简体/繁体/英文/中英</td>\n",
       "    </tr>\n",
       "    <tr>\n",
       "      <th>18</th>\n",
       "      <td>【版本】godless.2017.s01e04.720p.webrip.x264-strife</td>\n",
       "      <td>【发布】2017-11-26 22:49</td>\n",
       "      <td>【格式】SRT/ASS</td>\n",
       "      <td>【语种】简体/繁体/英文/中英</td>\n",
       "    </tr>\n",
       "    <tr>\n",
       "      <th>19</th>\n",
       "      <td>【版本】24.S02E02.720p.BluRay.X264-REWARD</td>\n",
       "      <td>【发布】2017-11-26 22:45</td>\n",
       "      <td>【格式】SRT/ASS</td>\n",
       "      <td>【语种】简体/繁体/英文/中英</td>\n",
       "    </tr>\n",
       "  </tbody>\n",
       "</table>\n",
       "</div>"
      ],
      "text/plain": [
       "                                                   名稱                    日期  \\\n",
       "0   【版本】Legends.of.Tomorrow.S03E06.Helen.Hunt.720p...  【发布】2017-11-28 10:23   \n",
       "1   【版本】Legends.of.Tomorrow.S03E05.Return.of.the.M...  【发布】2017-11-28 10:05   \n",
       "2   【版本】Z.Nation.S04E08.Crisis.of.Faith.720p.AMZN....  【发布】2017-11-28 10:03   \n",
       "3   【版本】Z.Nation.S04E07.Warrens.Wedding.720p.AMZN....  【发布】2017-11-28 10:03   \n",
       "4             【版本】howards_end.1x03.720p_hdtv_x264-fov  【发布】2017-11-27 23:43   \n",
       "5           【版本】outlander.s03e11.720p.web.h264-strife  【发布】2017-11-27 21:58   \n",
       "6     【版本】godless.2017.s01e05.720p.webrip.x264-strife  【发布】2017-11-27 21:01   \n",
       "7         【版本】berlin.station.s02e08.720p.web.h264-tbs  【发布】2017-11-27 20:47   \n",
       "8                                                【版本】  【发布】2017-11-27 20:46   \n",
       "9            【版本】longmire.s06e10.720p.web.x264-convoy  【发布】2017-11-27 20:43   \n",
       "10          【版本】longmire.s06e09.1080p.web.x264-convoy  【发布】2017-11-27 20:42   \n",
       "11  【版本】Man.With.a.Plan.S02E02.720p.HDTV.X264-DIME...  【发布】2017-11-27 18:19   \n",
       "12  【版本】Man.with.a.Plan.S02E01.720p.HDTV.X264-DIME...  【发布】2017-11-27 18:18   \n",
       "13  【版本】BBC.Punk.Britannia.2of3.Punk.1976-1978.720...  【发布】2017-11-27 16:40   \n",
       "14  【版本】BBC.Horizon.2017.Antarctica.Ice.Station.Re...  【发布】2017-11-27 16:38   \n",
       "15     【版本】The.Walking.Dead.S08E06.720p.HDTV.x264-AVS  【发布】2017-11-27 16:32   \n",
       "16     【版本】The.Simpsons.S29E07.720p.HDTV.x264-KILLERS  【发布】2017-11-27 09:38   \n",
       "17                 【版本】24.S01.720p.BluRay.X264-REWARD  【发布】2017-11-26 22:53   \n",
       "18    【版本】godless.2017.s01e04.720p.webrip.x264-strife  【发布】2017-11-26 22:49   \n",
       "19              【版本】24.S02E02.720p.BluRay.X264-REWARD  【发布】2017-11-26 22:45   \n",
       "\n",
       "             格式               語種  \n",
       "0   【格式】SRT/ASS  【语种】简体/繁体/英文/中英  \n",
       "1   【格式】SRT/ASS  【语种】简体/繁体/英文/中英  \n",
       "2   【格式】SRT/ASS  【语种】简体/繁体/英文/中英  \n",
       "3   【格式】SRT/ASS  【语种】简体/繁体/英文/中英  \n",
       "4   【格式】SRT/ASS  【语种】简体/繁体/英文/中英  \n",
       "5   【格式】SRT/ASS  【语种】简体/繁体/英文/中英  \n",
       "6   【格式】SRT/ASS  【语种】简体/繁体/英文/中英  \n",
       "7   【格式】SRT/ASS     【语种】简体/英文/中英  \n",
       "8   【格式】SRT/ASS  【语种】简体/繁体/英文/中英  \n",
       "9   【格式】SRT/ASS  【语种】简体/繁体/英文/中英  \n",
       "10  【格式】SRT/ASS  【语种】简体/繁体/英文/中英  \n",
       "11  【格式】SRT/ASS  【语种】简体/繁体/英文/中英  \n",
       "12  【格式】SRT/ASS  【语种】简体/繁体/英文/中英  \n",
       "13  【格式】SRT/ASS  【语种】简体/繁体/英文/中英  \n",
       "14  【格式】SRT/ASS  【语种】简体/繁体/英文/中英  \n",
       "15  【格式】SRT/ASS  【语种】简体/繁体/英文/中英  \n",
       "16  【格式】SRT/ASS  【语种】简体/繁体/英文/中英  \n",
       "17  【格式】SRT/ASS  【语种】简体/繁体/英文/中英  \n",
       "18  【格式】SRT/ASS  【语种】简体/繁体/英文/中英  \n",
       "19  【格式】SRT/ASS  【语种】简体/繁体/英文/中英  "
      ]
     },
     "execution_count": 66,
     "metadata": {},
     "output_type": "execute_result"
    }
   ],
   "source": [
    "pd.DataFrame(li)"
   ]
  },
  {
   "cell_type": "code",
   "execution_count": 32,
   "metadata": {},
   "outputs": [],
   "source": [
    "DD = S('.box.subtitle-list .list_a')"
   ]
  },
  {
   "cell_type": "markdown",
   "metadata": {},
   "source": [
    "# for loop"
   ]
  },
  {
   "cell_type": "code",
   "execution_count": 88,
   "metadata": {},
   "outputs": [],
   "source": [
    "new_list = [1,2,3,4,5]"
   ]
  },
  {
   "cell_type": "code",
   "execution_count": 87,
   "metadata": {},
   "outputs": [
    {
     "name": "stdout",
     "output_type": "stream",
     "text": [
      "1\n",
      "2\n",
      "3\n"
     ]
    }
   ],
   "source": [
    "ele = new_list[0]\n",
    "print(ele)\n",
    "ele = new_list[1]\n",
    "print(ele)\n",
    "ele = new_list[2]\n",
    "print(ele)"
   ]
  },
  {
   "cell_type": "code",
   "execution_count": 70,
   "metadata": {},
   "outputs": [
    {
     "name": "stdout",
     "output_type": "stream",
     "text": [
      "2\n",
      "3\n",
      "4\n",
      "5\n",
      "6\n"
     ]
    }
   ],
   "source": [
    "new_list = [1,2,3,4,5]\n",
    "for ele in new_list:\n",
    "    print(ele)"
   ]
  },
  {
   "cell_type": "markdown",
   "metadata": {},
   "source": [
    "# enumerate"
   ]
  },
  {
   "cell_type": "code",
   "execution_count": 68,
   "metadata": {},
   "outputs": [
    {
     "name": "stdout",
     "output_type": "stream",
     "text": [
      "0 【发布】2017-11-28 10:23\n",
      "1 【发布】2017-11-28 10:05\n",
      "2 【发布】2017-11-28 10:03\n",
      "3 【发布】2017-11-28 10:03\n",
      "4 【发布】2017-11-27 23:43\n",
      "5 【发布】2017-11-27 21:58\n",
      "6 【发布】2017-11-27 21:01\n",
      "7 【发布】2017-11-27 20:47\n",
      "8 【发布】2017-11-27 20:46\n",
      "9 【发布】2017-11-27 20:43\n",
      "10 【发布】2017-11-27 20:42\n",
      "11 【发布】2017-11-27 18:19\n",
      "12 【发布】2017-11-27 18:18\n",
      "13 【发布】2017-11-27 16:40\n",
      "14 【发布】2017-11-27 16:38\n",
      "15 【发布】2017-11-27 16:32\n",
      "16 【发布】2017-11-27 09:38\n",
      "17 【发布】2017-11-26 22:53\n",
      "18 【发布】2017-11-26 22:49\n",
      "19 【发布】2017-11-26 22:45\n"
     ]
    }
   ],
   "source": [
    "for i, dd in enumerate(S('.box.subtitle-list .list_a')):\n",
    "    print(i, PyQuery(dd)('span')[4].text)"
   ]
  },
  {
   "cell_type": "code",
   "execution_count": 13,
   "metadata": {},
   "outputs": [],
   "source": [
    "soup = BS(result.text, 'lxml')"
   ]
  },
  {
   "cell_type": "code",
   "execution_count": 21,
   "metadata": {},
   "outputs": [
    {
     "data": {
      "text/plain": [
       "[<div class=\"box subtitle-list\">\n",
       " <h2 class=\"it\">最新發布字幕</h2>\n",
       " <ul>\n",
       " <li>\n",
       " <dl>\n",
       " <dt>【美剧字幕】<strong><a href=\"/subtitle/54403\" target=\"_blank\" title=\"明日传奇 第03季 第06集【精校字幕&amp;720PWEB版】\">明日传奇 第03季 第06集【精校字幕&amp;720PWEB版】</a></strong></dt>\n",
       " <dd class=\"list_a\">\n",
       " <span>【语种】简体/繁体/英文/中英</span>\n",
       " <span>【格式】SRT/ASS</span>\n",
       " <span>【版本】Legends.of.Tomorrow.S03E06.Helen.Hunt.720p.Amazon.WEB-DL.DD 5.1.H.264-QOQ.zip</span>\n",
       " <span>【来源】ZiMuZu原创翻译</span>\n",
       " <span>【发布】2017-11-28 10:23</span>\n",
       " </dd>\n",
       " </dl>\n",
       " </li><li>\n",
       " <dl>\n",
       " <dt>【美剧字幕】<strong><a href=\"/subtitle/54402\" target=\"_blank\" title=\"明日传奇 第03季 第05集【精校字幕&amp;720PWEB版】\">明日传奇 第03季 第05集【精校字幕&amp;720PWEB版】</a></strong></dt>\n",
       " <dd class=\"list_a\">\n",
       " <span>【语种】简体/繁体/英文/中英</span>\n",
       " <span>【格式】SRT/ASS</span>\n",
       " <span>【版本】Legends.of.Tomorrow.S03E05.Return.of.the.Mack.720p.Amazon.WEB-DL.DD+5.1.H.264-QOQ.zip</span>\n",
       " <span>【来源】ZiMuZu原创翻译</span>\n",
       " <span>【发布】2017-11-28 10:05</span>\n",
       " </dd>\n",
       " </dl>\n",
       " </li><li>\n",
       " <dl>\n",
       " <dt>【美剧字幕】<strong><a href=\"/subtitle/54401\" target=\"_blank\" title=\"僵尸国度 第04季第08集【720P.WEB-DL版精校字幕】\">僵尸国度 第04季第08集【720P.WEB-DL版精校字幕】</a></strong></dt>\n",
       " <dd class=\"list_a\">\n",
       " <span>【语种】简体/繁体/英文/中英</span>\n",
       " <span>【格式】SRT/ASS</span>\n",
       " <span>【版本】Z.Nation.S04E08.Crisis.of.Faith.720p.AMZN.WEB-DL.DDP5.1.H.264-KiNGS.zip</span>\n",
       " <span>【来源】ZiMuZu原创翻译</span>\n",
       " <span>【发布】2017-11-28 10:03</span>\n",
       " </dd>\n",
       " </dl>\n",
       " </li><li>\n",
       " <dl>\n",
       " <dt>【美剧字幕】<strong><a href=\"/subtitle/54400\" target=\"_blank\" title=\"僵尸国度 第04季第07集【720P.WEB-DL版精校字幕】\">僵尸国度 第04季第07集【720P.WEB-DL版精校字幕】</a></strong></dt>\n",
       " <dd class=\"list_a\">\n",
       " <span>【语种】简体/繁体/英文/中英</span>\n",
       " <span>【格式】SRT/ASS</span>\n",
       " <span>【版本】Z.Nation.S04E07.Warrens.Wedding.720p.AMZN.WEB-DL.DDP5.1.H.264-KiNGS.zip</span>\n",
       " <span>【来源】ZiMuZu原创翻译</span>\n",
       " <span>【发布】2017-11-28 10:03</span>\n",
       " </dd>\n",
       " </dl>\n",
       " </li><li>\n",
       " <dl>\n",
       " <dt>【美剧字幕】<strong><a href=\"/subtitle/54399\" target=\"_blank\" title=\"霍华德庄园 第1季第3集\">霍华德庄园 第1季第3集</a></strong></dt>\n",
       " <dd class=\"list_a\">\n",
       " <span>【语种】简体/繁体/英文/中英</span>\n",
       " <span>【格式】SRT/ASS</span>\n",
       " <span>【版本】howards_end.1x03.720p_hdtv_x264-fov</span>\n",
       " <span>【来源】ZiMuZu原创翻译</span>\n",
       " <span>【发布】2017-11-27 23:43</span>\n",
       " </dd>\n",
       " </dl>\n",
       " </li><li>\n",
       " <dl>\n",
       " <dt>【美剧字幕】<strong><a href=\"/subtitle/54398\" target=\"_blank\" title=\"古战场传奇  第三季第十一集\">古战场传奇  第三季第十一集</a></strong></dt>\n",
       " <dd class=\"list_a\">\n",
       " <span>【语种】简体/繁体/英文/中英</span>\n",
       " <span>【格式】SRT/ASS</span>\n",
       " <span>【版本】outlander.s03e11.720p.web.h264-strife</span>\n",
       " <span>【来源】ZiMuZu原创翻译</span>\n",
       " <span>【发布】2017-11-27 21:58</span>\n",
       " </dd>\n",
       " </dl>\n",
       " </li><li>\n",
       " <dl>\n",
       " <dt>【美剧字幕】<strong><a href=\"/subtitle/54397\" target=\"_blank\" title=\"无神 第1季第5集\">无神 第1季第5集</a></strong></dt>\n",
       " <dd class=\"list_a\">\n",
       " <span>【语种】简体/繁体/英文/中英</span>\n",
       " <span>【格式】SRT/ASS</span>\n",
       " <span>【版本】godless.2017.s01e05.720p.webrip.x264-strife</span>\n",
       " <span>【来源】ZiMuZu原创翻译</span>\n",
       " <span>【发布】2017-11-27 21:01</span>\n",
       " </dd>\n",
       " </dl>\n",
       " </li><li>\n",
       " <dl>\n",
       " <dt>【美剧字幕】<strong><a href=\"/subtitle/54396\" target=\"_blank\" title=\"柏林谍影 第2季第8集\">柏林谍影 第2季第8集</a></strong></dt>\n",
       " <dd class=\"list_a\">\n",
       " <span>【语种】简体/英文/中英</span>\n",
       " <span>【格式】SRT/ASS</span>\n",
       " <span>【版本】berlin.station.s02e08.720p.web.h264-tbs</span>\n",
       " <span>【来源】ZiMuZu原创翻译</span>\n",
       " <span>【发布】2017-11-27 20:47</span>\n",
       " </dd>\n",
       " </dl>\n",
       " </li><li>\n",
       " <dl>\n",
       " <dt>【美剧字幕】<strong><a href=\"/subtitle/54395\" target=\"_blank\" title=\"无神 第1季第1集\">无神 第1季第1集</a></strong></dt>\n",
       " <dd class=\"list_a\">\n",
       " <span>【语种】简体/繁体/英文/中英</span>\n",
       " <span>【格式】SRT/ASS</span>\n",
       " <span>【版本】</span>\n",
       " <span>【来源】ZiMuZu原创翻译</span>\n",
       " <span>【发布】2017-11-27 20:46</span>\n",
       " </dd>\n",
       " </dl>\n",
       " </li><li>\n",
       " <dl>\n",
       " <dt>【美剧字幕】<strong><a href=\"/subtitle/54394\" target=\"_blank\" title=\"西镇警魂 第6季第10集\">西镇警魂 第6季第10集</a></strong></dt>\n",
       " <dd class=\"list_a\">\n",
       " <span>【语种】简体/繁体/英文/中英</span>\n",
       " <span>【格式】SRT/ASS</span>\n",
       " <span>【版本】longmire.s06e10.720p.web.x264-convoy</span>\n",
       " <span>【来源】ZiMuZu原创翻译</span>\n",
       " <span>【发布】2017-11-27 20:43</span>\n",
       " </dd>\n",
       " </dl>\n",
       " </li><li>\n",
       " <dl>\n",
       " <dt>【美剧字幕】<strong><a href=\"/subtitle/54393\" target=\"_blank\" title=\"西镇警魂 第6季第9集\">西镇警魂 第6季第9集</a></strong></dt>\n",
       " <dd class=\"list_a\">\n",
       " <span>【语种】简体/繁体/英文/中英</span>\n",
       " <span>【格式】SRT/ASS</span>\n",
       " <span>【版本】longmire.s06e09.1080p.web.x264-convoy</span>\n",
       " <span>【来源】ZiMuZu原创翻译</span>\n",
       " <span>【发布】2017-11-27 20:42</span>\n",
       " </dd>\n",
       " </dl>\n",
       " </li><li>\n",
       " <dl>\n",
       " <dt>【美剧字幕】<strong><a href=\"/subtitle/54392\" target=\"_blank\" title=\"老爸有招第二季第二集\">老爸有招第二季第二集</a></strong></dt>\n",
       " <dd class=\"list_a\">\n",
       " <span>【语种】简体/繁体/英文/中英</span>\n",
       " <span>【格式】SRT/ASS</span>\n",
       " <span>【版本】Man.With.a.Plan.S02E02.720p.HDTV.X264-DIMENSION.mkv</span>\n",
       " <span>【来源】ZiMuZu原创翻译</span>\n",
       " <span>【发布】2017-11-27 18:19</span>\n",
       " </dd>\n",
       " </dl>\n",
       " </li><li>\n",
       " <dl>\n",
       " <dt>【美剧字幕】<strong><a href=\"/subtitle/54391\" target=\"_blank\" title=\"老爸有招第二季第一集\">老爸有招第二季第一集</a></strong></dt>\n",
       " <dd class=\"list_a\">\n",
       " <span>【语种】简体/繁体/英文/中英</span>\n",
       " <span>【格式】SRT/ASS</span>\n",
       " <span>【版本】Man.with.a.Plan.S02E01.720p.HDTV.X264-DIMENSION.mkv</span>\n",
       " <span>【来源】ZiMuZu原创翻译</span>\n",
       " <span>【发布】2017-11-27 18:18</span>\n",
       " </dd>\n",
       " </dl>\n",
       " </li><li>\n",
       " <dl>\n",
       " <dt>【纪录片字幕】<strong><a href=\"/subtitle/54390\" target=\"_blank\" title=\"BBC.英伦朋克.102.朋克时代.1976-1978\">BBC.英伦朋克.102.朋克时代.1976-1978</a></strong></dt>\n",
       " <dd class=\"list_a\">\n",
       " <span>【语种】简体/繁体/英文/中英</span>\n",
       " <span>【格式】SRT/ASS</span>\n",
       " <span>【版本】BBC.Punk.Britannia.2of3.Punk.1976-1978.720p.HDTV.x264.AAC.MVGroup.org</span>\n",
       " <span>【来源】ZiMuZu原创翻译</span>\n",
       " <span>【发布】2017-11-27 16:40</span>\n",
       " </dd>\n",
       " </dl>\n",
       " </li><li>\n",
       " <dl>\n",
       " <dt>【纪录片字幕】<strong><a href=\"/subtitle/54389\" target=\"_blank\" title=\"BBC.地平线.2017.南极冰站救援\">BBC.地平线.2017.南极冰站救援</a></strong></dt>\n",
       " <dd class=\"list_a\">\n",
       " <span>【语种】简体/繁体/英文/中英</span>\n",
       " <span>【格式】SRT/ASS</span>\n",
       " <span>【版本】BBC.Horizon.2017.Antarctica.Ice.Station.Rescue.1080p.HDTV.x264.AAC.MVGroup.org</span>\n",
       " <span>【来源】ZiMuZu原创翻译</span>\n",
       " <span>【发布】2017-11-27 16:38</span>\n",
       " </dd>\n",
       " </dl>\n",
       " </li><li>\n",
       " <dl>\n",
       " <dt>【美剧字幕】<strong><a href=\"/subtitle/54388\" target=\"_blank\" title=\"行尸走肉 第8季第6集\">行尸走肉 第8季第6集</a></strong></dt>\n",
       " <dd class=\"list_a\">\n",
       " <span>【语种】简体/繁体/英文/中英</span>\n",
       " <span>【格式】SRT/ASS</span>\n",
       " <span>【版本】The.Walking.Dead.S08E06.720p.HDTV.x264-AVS</span>\n",
       " <span>【来源】ZiMuZu原创翻译</span>\n",
       " <span>【发布】2017-11-27 16:32</span>\n",
       " </dd>\n",
       " <dd class=\"list_b\">\n",
       " <p><strong>备注</strong></p>\n",
       "                             初版，enjoy~大家发现有字幕什么错误可以留言，我们会改正 \n",
       "                         </dd> </dl>\n",
       " </li><li>\n",
       " <dl>\n",
       " <dt>【美剧字幕】<strong><a href=\"/subtitle/54387\" target=\"_blank\" title=\"辛普森一家 第29季第07集\">辛普森一家 第29季第07集</a></strong></dt>\n",
       " <dd class=\"list_a\">\n",
       " <span>【语种】简体/繁体/英文/中英</span>\n",
       " <span>【格式】SRT/ASS</span>\n",
       " <span>【版本】The.Simpsons.S29E07.720p.HDTV.x264-KILLERS</span>\n",
       " <span>【来源】ZiMuZu原创翻译</span>\n",
       " <span>【发布】2017-11-27 09:38</span>\n",
       " </dd>\n",
       " </dl>\n",
       " </li><li>\n",
       " <dl>\n",
       " <dt>【美剧字幕】<strong><a href=\"/subtitle/54386\" target=\"_blank\" title=\"24小时 第一季蓝光字幕包\">24小时 第一季蓝光字幕包</a></strong></dt>\n",
       " <dd class=\"list_a\">\n",
       " <span>【语种】简体/繁体/英文/中英</span>\n",
       " <span>【格式】SRT/ASS</span>\n",
       " <span>【版本】24.S01.720p.BluRay.X264-REWARD</span>\n",
       " <span>【来源】ZiMuZu原创翻译</span>\n",
       " <span>【发布】2017-11-26 22:53</span>\n",
       " </dd>\n",
       " </dl>\n",
       " </li><li>\n",
       " <dl>\n",
       " <dt>【美剧字幕】<strong><a href=\"/subtitle/54385\" target=\"_blank\" title=\"无神 第1季第4集\">无神 第1季第4集</a></strong></dt>\n",
       " <dd class=\"list_a\">\n",
       " <span>【语种】简体/繁体/英文/中英</span>\n",
       " <span>【格式】SRT/ASS</span>\n",
       " <span>【版本】godless.2017.s01e04.720p.webrip.x264-strife</span>\n",
       " <span>【来源】ZiMuZu原创翻译</span>\n",
       " <span>【发布】2017-11-26 22:49</span>\n",
       " </dd>\n",
       " </dl>\n",
       " </li><li>\n",
       " <dl>\n",
       " <dt>【美剧字幕】<strong><a href=\"/subtitle/54384\" target=\"_blank\" title=\"24小时 第二季第二集\">24小时 第二季第二集</a></strong></dt>\n",
       " <dd class=\"list_a\">\n",
       " <span>【语种】简体/繁体/英文/中英</span>\n",
       " <span>【格式】SRT/ASS</span>\n",
       " <span>【版本】24.S02E02.720p.BluRay.X264-REWARD</span>\n",
       " <span>【来源】ZiMuZu原创翻译</span>\n",
       " <span>【发布】2017-11-26 22:45</span>\n",
       " </dd>\n",
       " </dl>\n",
       " </li> </ul>\n",
       " </div>]"
      ]
     },
     "execution_count": 21,
     "metadata": {},
     "output_type": "execute_result"
    }
   ],
   "source": [
    "soup.select('.box.subtitle-list ')"
   ]
  },
  {
   "cell_type": "code",
   "execution_count": 32,
   "metadata": {},
   "outputs": [
    {
     "data": {
      "text/plain": [
       "[<html>]"
      ]
     },
     "execution_count": 32,
     "metadata": {},
     "output_type": "execute_result"
    }
   ],
   "source": [
    "S"
   ]
  },
  {
   "cell_type": "code",
   "execution_count": 33,
   "metadata": {},
   "outputs": [
    {
     "data": {
      "text/plain": [
       "[<div.box.subtitle-list>]"
      ]
     },
     "execution_count": 33,
     "metadata": {},
     "output_type": "execute_result"
    }
   ],
   "source": [
    "S('.box.subtitle-list')"
   ]
  },
  {
   "cell_type": "code",
   "execution_count": 34,
   "metadata": {
    "scrolled": true
   },
   "outputs": [
    {
     "data": {
      "text/plain": [
       "[<li>, <li>, <li>, <li>, <li>, <li>, <li>, <li>, <li>, <li>, <li>, <li>, <li>, <li>, <li>, <li>, <li>, <li>, <li>, <li>]"
      ]
     },
     "execution_count": 34,
     "metadata": {},
     "output_type": "execute_result"
    }
   ],
   "source": [
    "S('.box.subtitle-list li')"
   ]
  },
  {
   "cell_type": "code",
   "execution_count": 35,
   "metadata": {},
   "outputs": [
    {
     "data": {
      "text/plain": [
       "[<a>, <a>, <a>, <a>, <a>, <a>, <a>, <a>, <a>, <a>, <a>, <a>, <a>, <a>, <a>, <a>, <a>, <a>, <a>, <a>]"
      ]
     },
     "execution_count": 35,
     "metadata": {},
     "output_type": "execute_result"
    }
   ],
   "source": [
    "S('.box.subtitle-list li a')"
   ]
  },
  {
   "cell_type": "code",
   "execution_count": 36,
   "metadata": {},
   "outputs": [
    {
     "data": {
      "text/plain": [
       "20"
      ]
     },
     "execution_count": 36,
     "metadata": {},
     "output_type": "execute_result"
    }
   ],
   "source": [
    "len(S('.box.subtitle-list li a'))"
   ]
  },
  {
   "cell_type": "code",
   "execution_count": 37,
   "metadata": {},
   "outputs": [
    {
     "data": {
      "text/plain": [
       "'极品老妈  第五季第四集'"
      ]
     },
     "execution_count": 37,
     "metadata": {},
     "output_type": "execute_result"
    }
   ],
   "source": [
    "S('.box.subtitle-list li a')[0].text"
   ]
  },
  {
   "cell_type": "code",
   "execution_count": 38,
   "metadata": {},
   "outputs": [
    {
     "data": {
      "text/plain": [
       "'/subtitle/54366'"
      ]
     },
     "execution_count": 38,
     "metadata": {},
     "output_type": "execute_result"
    }
   ],
   "source": [
    "PyQuery(S('.box.subtitle-list li a')[0]).attr('href')\n"
   ]
  },
  {
   "cell_type": "code",
   "execution_count": 39,
   "metadata": {},
   "outputs": [],
   "source": [
    "a_list = S('.box.subtitle-list li a')"
   ]
  },
  {
   "cell_type": "code",
   "execution_count": 41,
   "metadata": {},
   "outputs": [
    {
     "data": {
      "text/plain": [
       "[<a>, <a>, <a>, <a>, <a>, <a>, <a>, <a>, <a>, <a>, <a>, <a>, <a>, <a>, <a>, <a>, <a>, <a>, <a>, <a>]"
      ]
     },
     "execution_count": 41,
     "metadata": {},
     "output_type": "execute_result"
    }
   ],
   "source": [
    "a_list"
   ]
  },
  {
   "cell_type": "code",
   "execution_count": 46,
   "metadata": {},
   "outputs": [
    {
     "name": "stdout",
     "output_type": "stream",
     "text": [
      "极品老妈  第五季第四集\n",
      "/subtitle/54366\n",
      "凶鬼恶灵 第13季 第7集【初校】\n",
      "/subtitle/54365\n",
      "南方公园 第21季第8集\n",
      "/subtitle/54364\n",
      "南方公园 第21季第8集\n",
      "/subtitle/54363\n",
      "超能陆战队 第一季第一集\n",
      "/subtitle/54362\n",
      "浴血黑帮 第4季第2集\n",
      "/subtitle/54361\n",
      "犯罪心理 第13季第8集\n",
      "/subtitle/54360\n",
      "沙娜拉传奇 第二季第九集\n",
      "/subtitle/54359\n",
      "海豹突击队 第一季第八集\n",
      "/subtitle/54358\n",
      "反击 第06季 第4集 【HDTV版本 初校字幕】\n",
      "/subtitle/54357\n",
      "奥维尔号 第1季第1集精校\n",
      "/subtitle/54356\n",
      "高玩救未来 第1季第13集\n",
      "/subtitle/54355\n",
      "重案组 第6季第04集\n",
      "/subtitle/54354\n",
      "归乡路漫漫 第1季第4集\n",
      "/subtitle/54353\n",
      "黑客军团 第三季 第七集【初校】\n",
      "/subtitle/54352\n",
      "国务卿女士 第4季第7集\n",
      "/subtitle/54351\n",
      "国务卿女士 第4季第6集\n",
      "/subtitle/54350\n",
      "国务卿女士 第4季第5集\n",
      "/subtitle/54349\n",
      "国务卿女士 第4季第4集\n",
      "/subtitle/54348\n",
      "国务卿女士 第4季第3集\n",
      "/subtitle/54347\n"
     ]
    }
   ],
   "source": [
    "for a in a_list:\n",
    "    print(a.text)\n",
    "    print(a.attrib['href'])"
   ]
  },
  {
   "cell_type": "code",
   "execution_count": null,
   "metadata": {},
   "outputs": [],
   "source": []
  }
 ],
 "metadata": {
  "kernelspec": {
   "display_name": "Python 3",
   "language": "python",
   "name": "python3"
  },
  "language_info": {
   "codemirror_mode": {
    "name": "ipython",
    "version": 3
   },
   "file_extension": ".py",
   "mimetype": "text/x-python",
   "name": "python",
   "nbconvert_exporter": "python",
   "pygments_lexer": "ipython3",
   "version": "3.6.3"
  }
 },
 "nbformat": 4,
 "nbformat_minor": 2
}
